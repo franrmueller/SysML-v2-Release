{
 "cells": [
  {
   "cell_type": "code",
   "execution_count": 29,
   "id": "88a48375-d43d-4be3-aabc-76a804c3d393",
   "metadata": {
    "tags": []
   },
   "outputs": [
    {
     "data": {
      "text/plain": [
       "Package interfaces_v2 (9924ae21-1efb-4e2e-b525-0121d3c37ab4)\n"
      ]
     },
     "execution_count": 29,
     "metadata": {},
     "output_type": "execute_result"
    }
   ],
   "source": [
    "package interfaces_v2 {\n",
    "    port def PowerSupply;\n",
    "    port def WaterFeed;\n",
    "    port def HeaterCtrl;\n",
    "}"
   ]
  },
  {
   "cell_type": "code",
   "execution_count": 28,
   "id": "5cbcf408-c19c-40a6-abd1-7bfe89f7d24c",
   "metadata": {
    "tags": []
   },
   "outputs": [
    {
     "data": {
      "text/plain": [
       "Package tutorial_coffee_maker_v2 (594d4557-3756-45e4-87d2-f5786951f9e7)\n"
      ]
     },
     "execution_count": 28,
     "metadata": {},
     "output_type": "execute_result"
    }
   ],
   "source": [
    "package tutorial_coffee_maker_v2 {\n",
    "    // context + base\n",
    "    part def Kitchen;\n",
    "    part def CoffeeMaker;\n",
    "\n",
    "    // internals\n",
    "    part def Pump {\n",
    "        port waterOut: interfaces_v2::WaterFeed;\n",
    "    }\n",
    "    part def Heater {\n",
    "        port ctrl: interfaces_v2::HeaterCtrl;\n",
    "    }\n",
    "    part def Brewer {\n",
    "        port waterIn: interfaces_v2::WaterFeed;\n",
    "        port heat:    interfaces_v2::HeaterCtrl;\n",
    "    }\n",
    "\n",
    "    // composed variant with wiring\n",
    "    part def CoffeeMaker_Int specializes tutorial_coffee_maker_v2::CoffeeMaker {\n",
    "        part pump:   tutorial_coffee_maker_v2::Pump;\n",
    "        part heater: tutorial_coffee_maker_v2::Heater;\n",
    "        part brewer: tutorial_coffee_maker_v2::Brewer;\n",
    "\n",
    "        connect pump.waterOut to brewer.waterIn;\n",
    "        connect heater.ctrl    to brewer.heat;\n",
    "    }\n",
    "\n",
    "    // powered variant (for system integration)\n",
    "    part def CoffeeMaker_Powered specializes tutorial_coffee_maker_v2::CoffeeMaker_Int {\n",
    "        port power: interfaces_v2::PowerSupply;\n",
    "    }\n",
    "\n",
    "    // requirement\n",
    "    requirement def Safety {\n",
    "        text = \"The coffee maker shall not energize the heater with the lid open.\";\n",
    "    }\n",
    "}"
   ]
  },
  {
   "cell_type": "code",
   "execution_count": 27,
   "id": "225ceb26-5089-4b92-98be-a908087c45eb",
   "metadata": {
    "tags": []
   },
   "outputs": [
    {
     "data": {
      "text/plain": [
       "Package structure_v2 (a4c7aab0-2ed4-4ee7-add3-1fc28d6a4f10)\n"
      ]
     },
     "execution_count": 27,
     "metadata": {},
     "output_type": "execute_result"
    }
   ],
   "source": [
    "package structure_v2 {\n",
    "    part def CoffeeSystem {\n",
    "        part kitchen: tutorial_coffee_maker_v2::Kitchen;\n",
    "        part machine: tutorial_coffee_maker_v2::CoffeeMaker_Powered;\n",
    "\n",
    "        port mains: interfaces_v2::PowerSupply;\n",
    "        connect machine.power to mains;\n",
    "    }\n",
    "}"
   ]
  },
  {
   "cell_type": "code",
   "execution_count": 35,
   "id": "cfa35498-efe0-459b-aaf5-2d5be318ca52",
   "metadata": {
    "tags": []
   },
   "outputs": [
    {
     "name": "stderr",
     "output_type": "stream",
     "text": [
      "ERROR:no viable alternative at input 'def' (35.sysml line : 2 column : 19)\n",
      "ERROR:mismatched input 'transition' expecting '}' (35.sysml line : 10 column : 9)\n",
      "ERROR:mismatched input 'transition' expecting '}' (35.sysml line : 11 column : 9)\n",
      "ERROR:missing EOF at '}' (35.sysml line : 12 column : 5)\n"
     ]
    },
    {
     "data": {
      "text/plain": []
     },
     "execution_count": 35,
     "metadata": {},
     "output_type": "execute_result"
    }
   ],
   "source": [
    "package behavior_v2 {\n",
    "    state machine def BrewingLifecycle {\n",
    "        state def Idle;\n",
    "        state def Heating;\n",
    "        state def Pumping;\n",
    "        state def Done;\n",
    "\n",
    "        transition def Idle_to_Heating { source: Idle; target: Heating; }\n",
    "        transition def Heating_to_Pumping { source: Heating; target: Pumping; }\n",
    "        transition def Pumping_to_Done { source: Pumping; target: Done; }\n",
    "        transition def Done_to_Idle { source: Done; target: Idle; }\n",
    "    }\n",
    "\n",
    "    // Attach behavior to the base definition (variants inherit it)\n",
    "    specialize tutorial_coffee_maker_v2::CoffeeMaker {\n",
    "        subject lifecycle: BrewingLifecycle;\n",
    "    }\n",
    "}"
   ]
  },
  {
   "cell_type": "code",
   "execution_count": 36,
   "id": "6bd11d17-0e87-43a7-adfa-4c6a933471a4",
   "metadata": {
    "tags": []
   },
   "outputs": [
    {
     "name": "stderr",
     "output_type": "stream",
     "text": [
      "ERROR:no viable alternative at input 'def' (36.sysml line : 2 column : 18)\n",
      "ERROR:no viable alternative at input 'specializes' (36.sysml line : 2 column : 43)\n",
      "ERROR:extraneous input '}' expecting EOF (36.sysml line : 6 column : 1)\n"
     ]
    },
    {
     "data": {
      "text/plain": []
     },
     "execution_count": 36,
     "metadata": {},
     "output_type": "execute_result"
    }
   ],
   "source": [
    "package requirements_v2 {\n",
    "    relationship def S_CoffeeMaker_Safety specializes satisfy {\n",
    "        source: tutorial_coffee_maker_v2::CoffeeMaker;\n",
    "        target: tutorial_coffee_maker_v2::Safety;\n",
    "    }\n",
    "}"
   ]
  },
  {
   "cell_type": "code",
   "execution_count": null,
   "id": "f88c43a7-0c5d-48e1-961e-cff9f8bd2302",
   "metadata": {},
   "outputs": [],
   "source": []
  }
 ],
 "metadata": {
  "kernelspec": {
   "display_name": "SysML",
   "language": "sysml",
   "name": "sysml"
  },
  "language_info": {
   "codemirror_mode": "sysml",
   "file_extension": ".sysml",
   "mimetype": "text/x-sysml",
   "name": "SysML",
   "pygments_lexer": "java",
   "version": "1.0.0"
  }
 },
 "nbformat": 4,
 "nbformat_minor": 5
}
