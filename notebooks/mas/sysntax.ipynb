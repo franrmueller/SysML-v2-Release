{
 "cells": [
  {
   "cell_type": "markdown",
   "id": "3ec3162c",
   "metadata": {},
   "source": [
    "Introduction to the SysML v2 Language Textual Notation\n",
    "\n",
    "Four-Layer Language Architecture\n",
    "-Root – Root syntactic elements\n",
    "    - Element, Comment, Documentation, Textual Representation, Namespace\n",
    "    - Relationship, Annotation, Membership, Import, Dependency\n",
    "- Core – Fundamental semantic concepts – Formal declarative semantics\n",
    "    - Type, Classifier, Feature, Multiplicity\n",
    "    - Feature Membership, Specialization, Conjugation, Type Featuring, Feature Chaining, Feature Inverting, Unioning, Intersecting, Differencing\n",
    "- Kernel – Foundation for building modeling languages – Kernel semantic library\n",
    "    - Class, Data Type, Behavior, Function, Metaclass, Step, Expression, Metadata Feature, Package\n",
    "    - Association, Interaction, Connector, Binding Connector, Succession, Item Flow, Succession Item Flow\n",
    "- Systems – Modeling language for systems engineering – Domain libraries\n",
    "    - Definition and Usage of:\n",
    "        ▪ Attributes, Enumerations, Occurrences, Items, Parts, Ports, Actions, States, Constraints, Requirements, Concerns, Calculations, Cases, Analysis Cases, Verification Cases, Use Cases, Views, Viewpoints, Renderings, Metadata\n",
    "        ▪ Connections, Interfaces, Allocations, Flows, Succession Flows"
   ]
  },
  {
   "cell_type": "code",
   "execution_count": 14,
   "id": "4ae449af",
   "metadata": {
    "vscode": {
     "languageId": "sysml"
    }
   },
   "outputs": [
    {
     "data": {
      "text/plain": [
       "Package Package Example (1f7f0af1-7593-4ca7-a204-32a971380fb5)\n",
       "Comment (a4207d2d-1e60-4d5b-ae09-5bd3967b11c3)\n"
      ]
     },
     "execution_count": 14,
     "metadata": {},
     "output_type": "execute_result"
    }
   ],
   "source": [
    "// Packages\n",
    "package 'Package Example' { // A package acts as a namespace for its members and a container for its owned members.\n",
    "    \n",
    "    public import ISQ::TorqueValue; // An import adds either a single imported member or all the members of an imported package to the importing package.\n",
    "    private import ScalarValues::*;\n",
    "    \n",
    "    part def Automobile; // The owned members of a package are elements directly contained in the package.\n",
    "    \n",
    "    alias Car for Automobile; // A package can introduce aliasesfor its owned members or for individual members of other packages.\n",
    "    alias Torque for ISQ::TorqueValue;\n",
    "}\n",
    "\n",
    "/*\n",
    "    A package can introduce aliasesfor its owned members or for individual members of other packages.\n",
    "    A qualified name is a package name (which may itself be qualified) followed by the name of one of its members, separated by :: .\n",
    "*/"
   ]
  },
  {
   "cell_type": "code",
   "execution_count": 15,
   "id": "6bf29ac1",
   "metadata": {
    "vscode": {
     "languageId": "sysml"
    }
   },
   "outputs": [
    {
     "data": {
      "text/plain": [
       "PartDefinition Vehicle (b8dab4ad-862d-4884-b89f-c223c9ea40c6)\n",
       "AttributeDefinition VehicleStatus (48a5f41c-9aa2-48cf-8473-499cfd7c9623)\n",
       "PartDefinition Engine (d900bcf4-8206-4ad0-bebd-bdd5a5bddfad)\n",
       "PartDefinition Person (62f71c69-59ab-4016-bf00-9e5fff5017e0)\n"
      ]
     },
     "execution_count": 15,
     "metadata": {},
     "output_type": "execute_result"
    }
   ],
   "source": [
    "// Part and Attribute Definitions\n",
    "part def Vehicle { // A part definition is a definition of a class of systems or parts of systems, which are mutable and exist in space and time.\n",
    "\n",
    "    attribute mass : ScalarValues::Real; // An attribute usage of an attribute definition, used here as a feature of the part definition.\n",
    "\n",
    "    part eng : Engine; // A part usage is a composite feature that is the usage of a part definition.\n",
    "\n",
    "    ref part driver : Person;\n",
    "\n",
    "}\n",
    "attribute def VehicleStatus { // An attribute definition is a definition of attributive data that can be used to describe systems or parts.\n",
    "    \n",
    "    private import ScalarValues::*;\n",
    "    \n",
    "    attribute gearSetting : Integer;\n",
    "    \n",
    "    attribute acceleratorPosition : Real; // An attribute definition may not have composite features. Attribute usages are always referential.\n",
    "\n",
    "}\n",
    "\n",
    "part def Engine;\n",
    "part def Person;"
   ]
  },
  {
   "cell_type": "code",
   "execution_count": 16,
   "id": "0fb88b16",
   "metadata": {
    "vscode": {
     "languageId": "sysml"
    }
   },
   "outputs": [
    {
     "data": {
      "text/plain": [
       "PartDefinition Vehicle (7196d70a-099f-48b3-94da-fcc9596dfbc9)\n",
       "PartDefinition HumanDrivenVehicle (7086418d-e4ad-4dd2-8991-add41b6b3f0c)\n",
       "PartDefinition PoweredVehicle (b80a6808-2281-4b50-b369-7a42b8b54601)\n",
       "PartDefinition HumanDrivenPoweredVehicle (0f0fcde2-6fe2-47ef-bfac-1e70eaad12c6)\n",
       "PartDefinition Engine (b8223685-4b10-4914-94ed-612d28d68805)\n",
       "PartDefinition Person (bdc8b4b8-266b-41e2-b61c-f1e6000dde75)\n"
      ]
     },
     "execution_count": 16,
     "metadata": {},
     "output_type": "execute_result"
    }
   ],
   "source": [
    "// Generalization / Specialization\n",
    "abstract part def Vehicle; // An abstract definition is one whose instances must be members of some specialization.\n",
    "\n",
    "part def HumanDrivenVehicle specializes Vehicle { // An abstract definition is one whose instances must be members of some specialization.\n",
    "    ref part driver : Person;\n",
    "}\n",
    "\n",
    "part def PoweredVehicle :> Vehicle { // The :> symbol is equivalent to the specializes keyword.\n",
    "    part eng : Engine; // A specialization can define additional features.\n",
    "}\n",
    "\n",
    "part def HumanDrivenPoweredVehicle :> \n",
    "    HumanDrivenVehicle, PoweredVehicle; // A definition can have multiple generalizations, inheriting the features of all general definitions.\n",
    "\n",
    "part def Engine; \n",
    "part def Person;"
   ]
  },
  {
   "cell_type": "code",
   "execution_count": 17,
   "id": "cc16e899",
   "metadata": {
    "vscode": {
     "languageId": "sysml"
    }
   },
   "outputs": [
    {
     "data": {
      "text/plain": [
       "PartDefinition Vehicle (e25c4d9f-49fc-47a4-9e70-3117860adc13)\n",
       "PartDefinition VehiclePart (e3a47148-8d89-421d-8ecb-211b8f5e77bc)\n",
       "PartDefinition Engine (bc119c91-6dd9-4fb5-a979-5b578b87b19c)\n",
       "PartDefinition Transmission (950e0b98-1ac3-4bac-bcbc-91c491cdfb83)\n",
       "PartDefinition Wheel (c8500af8-706d-449e-8035-b48c1a857742)\n"
      ]
     },
     "execution_count": 17,
     "metadata": {},
     "output_type": "execute_result"
    }
   ],
   "source": [
    "// Subsetting\n",
    "part def Vehicle {\n",
    "    part parts : VehiclePart[*];\n",
    "\n",
    "    part eng : Engine subsets parts; // Subsetting asserts that, in any common context, the values of one feature are a subset of the values of another feature.\n",
    "    part trans : Transmission subsets parts;\n",
    "    part wheels : Wheel[4] :> parts; // Subsetting is a kind of generalization between features.\n",
    "}\n",
    "\n",
    "abstract part def VehiclePart;\n",
    "part def Engine :> VehiclePart;\n",
    "part def Transmission :> VehiclePart;\n",
    "part def Wheel :> VehiclePart;"
   ]
  },
  {
   "cell_type": "code",
   "execution_count": null,
   "id": "6f27cc87",
   "metadata": {
    "vscode": {
     "languageId": "sysml"
    }
   },
   "outputs": [
    {
     "data": {
      "text/plain": [
       "PartDefinition Vehicle (caf91363-fd36-40a8-af9c-fe05676caf5d)\n",
       "PartDefinition SmallVehicle (ac5d6c92-0d6f-42e8-bc68-5e276d786799)\n",
       "PartDefinition BigVehicle (c1ef74dd-7ac0-491b-8c1f-faf8a650cba9)\n",
       "PartDefinition Engine (5d7758cf-f3fb-41a2-949c-df889206343c)\n",
       "PartDefinition SmallEngine (8d3bb7b4-a435-466d-9648-cef33d27f132)\n",
       "PartDefinition BigEngine (c5b9c42a-3a6a-44f6-beaf-f20091a6efb4)\n",
       "PartDefinition Cylinder (2b7c651e-d40c-4b10-a507-28a5810df935)\n"
      ]
     },
     "execution_count": 18,
     "metadata": {},
     "output_type": "execute_result"
    }
   ],
   "source": [
    "// Redefinition\n",
    "part def Vehicle {\n",
    "    part eng : Engine;\n",
    "}\n",
    "part def SmallVehicle :> Vehicle {\n",
    "    part smallEng : SmallEngine redefines eng; //A specialized definition can redefine a feature that would otherwise be inherited, to change its name and/or specialize its type.\n",
    "}\n",
    "part def BigVehicle :> Vehicle {\n",
    "    part bigEng : BigEngine :>> eng; // The :>> symbol is equivalent to the redefines keyword.\n",
    "}\n",
    "\n",
    "part def Engine {\n",
    "    part cyl : Cylinder[4..6]; // A feature can also specify multiplicity. *The default multiplicity for parts is 1..1.\n",
    "}\n",
    "part def SmallEngine :> Engine {\n",
    "    part redefines cyl[4]; // There is shorthand notation for redefining a feature with the same name.\n",
    "}\n",
    "part def BigEngine :> Engine {\n",
    "    part redefines cyl[6]; // Redefinition can be used to constrain the multiplicity of a feature.\n",
    "}\n",
    "\n",
    "part def Cylinder;"
   ]
  },
  {
   "cell_type": "code",
   "execution_count": null,
   "id": "eca77c2f",
   "metadata": {
    "vscode": {
     "languageId": "sysml"
    }
   },
   "outputs": [],
   "source": [
    "// Ennumeration Definitions"
   ]
  }
 ],
 "metadata": {
  "kernelspec": {
   "display_name": "SysML",
   "language": "sysml",
   "name": "sysml"
  },
  "language_info": {
   "codemirror_mode": "sysml",
   "file_extension": ".sysml",
   "mimetype": "text/x-sysml",
   "name": "SysML",
   "pygments_lexer": "java",
   "version": "1.0.0"
  }
 },
 "nbformat": 4,
 "nbformat_minor": 5
}
