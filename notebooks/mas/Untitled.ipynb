{
 "cells": [
  {
   "cell_type": "code",
   "execution_count": null,
   "id": "3e9d05b2-edcf-463c-ab59-c8a1fd0f5aec",
   "metadata": {
    "vscode": {
     "languageId": "sysml"
    }
   },
   "outputs": [],
   "source": [
    "package ThesisMAS;\n",
    "\n",
    "import sysml;\n",
    "\n",
    "// agent roles\n",
    "block OrchestrationAgent { }\n",
    "block ComplianceVerificationAgent { }\n",
    "block DataIntegrationAgent { }\n",
    "\n",
    "// simple container to show composition in a BDD\n",
    "block WorkflowAutomationSystem {\n",
    "    part orchestrator: OrchestrationAgent;\n",
    "    part compliance : ComplianceVerificationAgent;\n",
    "    part data       : DataIntegrationAgent;\n",
    "}\n",
    "\n",
    "end;"
   ]
  },
  {
   "cell_type": "code",
   "execution_count": 6,
   "id": "7b3da5ec",
   "metadata": {
    "vscode": {
     "languageId": "plaintext"
    }
   },
   "outputs": [
    {
     "name": "stderr",
     "output_type": "stream",
     "text": [
      "ERROR:no viable alternative at input '::' (6.sysml line : 1 column : 18)\n",
      "ERROR:missing EOF at 'import' (6.sysml line : 2 column : 1)\n"
     ]
    },
    {
     "data": {
      "text/plain": []
     },
     "execution_count": 6,
     "metadata": {},
     "output_type": "execute_result"
    }
   ],
   "source": [
    "package ThesisMAS::Interactions;\n",
    "import ThesisMAS::*; import sysml::*;\n",
    "\n",
    "interface ComplianceCheck { op requestCheck(); op checkResult(); }\n",
    "\n",
    "block OrchestrationWithPort specializes OrchestrationAgent {\n",
    "    port toCompliance: ComplianceCheck;\n",
    "}\n",
    "\n",
    "block ComplianceWithPort specializes ComplianceVerificationAgent {\n",
    "    port fromOrchestrator: ComplianceCheck;\n",
    "}\n",
    "\n",
    "end;\n"
   ]
  }
 ],
 "metadata": {
  "kernelspec": {
   "display_name": "SysML",
   "language": "sysml",
   "name": "sysml"
  },
  "language_info": {
   "codemirror_mode": "sysml",
   "file_extension": ".sysml",
   "mimetype": "text/x-sysml",
   "name": "SysML",
   "pygments_lexer": "java",
   "version": "1.0.0"
  }
 },
 "nbformat": 4,
 "nbformat_minor": 5
}
