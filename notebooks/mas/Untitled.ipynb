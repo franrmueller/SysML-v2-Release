{
 "cells": [
  {
   "cell_type": "code",
   "execution_count": null,
   "id": "3e9d05b2-edcf-463c-ab59-c8a1fd0f5aec",
   "metadata": {
    "vscode": {
     "languageId": "sysml"
    }
   },
   "outputs": [],
   "source": [
    "package ThesisMAS;\n",
    "\n",
    "import sysml;\n",
    "\n",
    "// agent roles\n",
    "block OrchestrationAgent { }\n",
    "block ComplianceVerificationAgent { }\n",
    "block DataIntegrationAgent { }\n",
    "\n",
    "// simple container to show composition in a BDD\n",
    "block WorkflowAutomationSystem {\n",
    "    part orchestrator: OrchestrationAgent;\n",
    "    part compliance : ComplianceVerificationAgent;\n",
    "    part data       : DataIntegrationAgent;\n",
    "}\n",
    "\n",
    "end;"
   ]
  },
  {
   "cell_type": "code",
   "execution_count": null,
   "id": "7b3da5ec",
   "metadata": {
    "vscode": {
     "languageId": "plaintext"
    }
   },
   "outputs": [],
   "source": []
  }
 ],
 "metadata": {
  "kernelspec": {
   "display_name": "SysML",
   "language": "sysml",
   "name": "sysml"
  },
  "language_info": {
   "codemirror_mode": "sysml",
   "file_extension": ".sysml",
   "mimetype": "text/x-sysml",
   "name": "SysML",
   "pygments_lexer": "java",
   "version": "1.0.0"
  }
 },
 "nbformat": 4,
 "nbformat_minor": 5
}
